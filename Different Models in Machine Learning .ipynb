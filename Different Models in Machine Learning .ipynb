{
 "cells": [
  {
   "cell_type": "code",
   "execution_count": 1,
   "id": "9a504ba8",
   "metadata": {},
   "outputs": [],
   "source": [
    "# import 'pandas' \n",
    "import pandas as pd \n",
    "\n",
    "# import 'numpy' \n",
    "import numpy as np\n",
    "\n",
    "# import subpackage of matplotlib\n",
    "import matplotlib.pyplot as plt\n",
    "\n",
    "# import 'seaborn'\n",
    "import seaborn as sns\n",
    "\n",
    "# to suppress warnings \n",
    "from warnings import filterwarnings\n",
    "filterwarnings('ignore')\n",
    "\n",
    "# import statsmodels\n",
    "import statsmodels.api as sm\n",
    "\n",
    "from sklearn.model_selection import train_test_split\n",
    "from statsmodels.stats.outliers_influence import variance_inflation_factor"
   ]
  },
  {
   "cell_type": "code",
   "execution_count": 2,
   "id": "3556656e",
   "metadata": {},
   "outputs": [
    {
     "data": {
      "text/html": [
       "<div>\n",
       "<style scoped>\n",
       "    .dataframe tbody tr th:only-of-type {\n",
       "        vertical-align: middle;\n",
       "    }\n",
       "\n",
       "    .dataframe tbody tr th {\n",
       "        vertical-align: top;\n",
       "    }\n",
       "\n",
       "    .dataframe thead th {\n",
       "        text-align: right;\n",
       "    }\n",
       "</style>\n",
       "<table border=\"1\" class=\"dataframe\">\n",
       "  <thead>\n",
       "    <tr style=\"text-align: right;\">\n",
       "      <th></th>\n",
       "      <th>Unnamed: 0</th>\n",
       "      <th>loan_amnt</th>\n",
       "      <th>funded_amnt</th>\n",
       "      <th>funded_amnt_inv</th>\n",
       "      <th>term</th>\n",
       "      <th>int_rate</th>\n",
       "      <th>emp_length</th>\n",
       "      <th>annual_inc</th>\n",
       "      <th>verification_status</th>\n",
       "      <th>dti</th>\n",
       "      <th>...</th>\n",
       "      <th>last_week_pay</th>\n",
       "      <th>acc_now_delinq</th>\n",
       "      <th>tot_coll_amt</th>\n",
       "      <th>tot_cur_bal</th>\n",
       "      <th>total_rev_hi_lim</th>\n",
       "      <th>loan_status</th>\n",
       "      <th>grade_num</th>\n",
       "      <th>addr_state_NE</th>\n",
       "      <th>addr_state_S</th>\n",
       "      <th>addr_state_W</th>\n",
       "    </tr>\n",
       "  </thead>\n",
       "  <tbody>\n",
       "    <tr>\n",
       "      <th>0</th>\n",
       "      <td>0</td>\n",
       "      <td>14350</td>\n",
       "      <td>14350</td>\n",
       "      <td>14350.0</td>\n",
       "      <td>0</td>\n",
       "      <td>19.19</td>\n",
       "      <td>9</td>\n",
       "      <td>28700.0</td>\n",
       "      <td>1</td>\n",
       "      <td>33.88</td>\n",
       "      <td>...</td>\n",
       "      <td>26</td>\n",
       "      <td>0.0</td>\n",
       "      <td>0.0</td>\n",
       "      <td>28699.0</td>\n",
       "      <td>30800.0</td>\n",
       "      <td>0</td>\n",
       "      <td>53</td>\n",
       "      <td>0</td>\n",
       "      <td>1</td>\n",
       "      <td>0</td>\n",
       "    </tr>\n",
       "    <tr>\n",
       "      <th>1</th>\n",
       "      <td>1</td>\n",
       "      <td>4800</td>\n",
       "      <td>4800</td>\n",
       "      <td>4800.0</td>\n",
       "      <td>0</td>\n",
       "      <td>10.99</td>\n",
       "      <td>0</td>\n",
       "      <td>65000.0</td>\n",
       "      <td>1</td>\n",
       "      <td>3.64</td>\n",
       "      <td>...</td>\n",
       "      <td>9</td>\n",
       "      <td>0.0</td>\n",
       "      <td>0.0</td>\n",
       "      <td>9974.0</td>\n",
       "      <td>32900.0</td>\n",
       "      <td>0</td>\n",
       "      <td>22</td>\n",
       "      <td>0</td>\n",
       "      <td>1</td>\n",
       "      <td>0</td>\n",
       "    </tr>\n",
       "    <tr>\n",
       "      <th>2</th>\n",
       "      <td>2</td>\n",
       "      <td>10000</td>\n",
       "      <td>10000</td>\n",
       "      <td>10000.0</td>\n",
       "      <td>0</td>\n",
       "      <td>7.26</td>\n",
       "      <td>2</td>\n",
       "      <td>45000.0</td>\n",
       "      <td>0</td>\n",
       "      <td>18.42</td>\n",
       "      <td>...</td>\n",
       "      <td>9</td>\n",
       "      <td>0.0</td>\n",
       "      <td>65.0</td>\n",
       "      <td>38295.0</td>\n",
       "      <td>34900.0</td>\n",
       "      <td>0</td>\n",
       "      <td>12</td>\n",
       "      <td>0</td>\n",
       "      <td>0</td>\n",
       "      <td>0</td>\n",
       "    </tr>\n",
       "    <tr>\n",
       "      <th>3</th>\n",
       "      <td>3</td>\n",
       "      <td>15000</td>\n",
       "      <td>15000</td>\n",
       "      <td>15000.0</td>\n",
       "      <td>0</td>\n",
       "      <td>19.72</td>\n",
       "      <td>10</td>\n",
       "      <td>105000.0</td>\n",
       "      <td>0</td>\n",
       "      <td>14.97</td>\n",
       "      <td>...</td>\n",
       "      <td>135</td>\n",
       "      <td>0.0</td>\n",
       "      <td>0.0</td>\n",
       "      <td>55564.0</td>\n",
       "      <td>24700.0</td>\n",
       "      <td>0</td>\n",
       "      <td>41</td>\n",
       "      <td>0</td>\n",
       "      <td>1</td>\n",
       "      <td>0</td>\n",
       "    </tr>\n",
       "    <tr>\n",
       "      <th>4</th>\n",
       "      <td>4</td>\n",
       "      <td>16000</td>\n",
       "      <td>16000</td>\n",
       "      <td>16000.0</td>\n",
       "      <td>0</td>\n",
       "      <td>10.64</td>\n",
       "      <td>10</td>\n",
       "      <td>52000.0</td>\n",
       "      <td>1</td>\n",
       "      <td>20.16</td>\n",
       "      <td>...</td>\n",
       "      <td>96</td>\n",
       "      <td>0.0</td>\n",
       "      <td>0.0</td>\n",
       "      <td>47159.0</td>\n",
       "      <td>47033.0</td>\n",
       "      <td>0</td>\n",
       "      <td>24</td>\n",
       "      <td>0</td>\n",
       "      <td>0</td>\n",
       "      <td>1</td>\n",
       "    </tr>\n",
       "  </tbody>\n",
       "</table>\n",
       "<p>5 rows × 34 columns</p>\n",
       "</div>"
      ],
      "text/plain": [
       "   Unnamed: 0  loan_amnt  funded_amnt  funded_amnt_inv  term  int_rate  \\\n",
       "0           0      14350        14350          14350.0     0     19.19   \n",
       "1           1       4800         4800           4800.0     0     10.99   \n",
       "2           2      10000        10000          10000.0     0      7.26   \n",
       "3           3      15000        15000          15000.0     0     19.72   \n",
       "4           4      16000        16000          16000.0     0     10.64   \n",
       "\n",
       "   emp_length  annual_inc  verification_status    dti  ...  last_week_pay  \\\n",
       "0           9     28700.0                    1  33.88  ...             26   \n",
       "1           0     65000.0                    1   3.64  ...              9   \n",
       "2           2     45000.0                    0  18.42  ...              9   \n",
       "3          10    105000.0                    0  14.97  ...            135   \n",
       "4          10     52000.0                    1  20.16  ...             96   \n",
       "\n",
       "   acc_now_delinq  tot_coll_amt  tot_cur_bal  total_rev_hi_lim  loan_status  \\\n",
       "0             0.0           0.0      28699.0           30800.0            0   \n",
       "1             0.0           0.0       9974.0           32900.0            0   \n",
       "2             0.0          65.0      38295.0           34900.0            0   \n",
       "3             0.0           0.0      55564.0           24700.0            0   \n",
       "4             0.0           0.0      47159.0           47033.0            0   \n",
       "\n",
       "   grade_num  addr_state_NE  addr_state_S  addr_state_W  \n",
       "0         53              0             1             0  \n",
       "1         22              0             1             0  \n",
       "2         12              0             0             0  \n",
       "3         41              0             1             0  \n",
       "4         24              0             0             1  \n",
       "\n",
       "[5 rows x 34 columns]"
      ]
     },
     "execution_count": 2,
     "metadata": {},
     "output_type": "execute_result"
    }
   ],
   "source": [
    "#reading the csv data \n",
    "df_org = pd.read_csv('Project_Dataset.csv')\n",
    "df_org.head()"
   ]
  },
  {
   "cell_type": "code",
   "execution_count": 3,
   "id": "ce6c62e8",
   "metadata": {},
   "outputs": [],
   "source": [
    "df = df_org.copy()"
   ]
  },
  {
   "cell_type": "code",
   "execution_count": 4,
   "id": "d3402b0c",
   "metadata": {},
   "outputs": [
    {
     "data": {
      "text/html": [
       "<div>\n",
       "<style scoped>\n",
       "    .dataframe tbody tr th:only-of-type {\n",
       "        vertical-align: middle;\n",
       "    }\n",
       "\n",
       "    .dataframe tbody tr th {\n",
       "        vertical-align: top;\n",
       "    }\n",
       "\n",
       "    .dataframe thead th {\n",
       "        text-align: right;\n",
       "    }\n",
       "</style>\n",
       "<table border=\"1\" class=\"dataframe\">\n",
       "  <thead>\n",
       "    <tr style=\"text-align: right;\">\n",
       "      <th></th>\n",
       "      <th>Unnamed: 0</th>\n",
       "      <th>loan_amnt</th>\n",
       "      <th>funded_amnt</th>\n",
       "      <th>funded_amnt_inv</th>\n",
       "      <th>term</th>\n",
       "      <th>int_rate</th>\n",
       "      <th>emp_length</th>\n",
       "      <th>annual_inc</th>\n",
       "      <th>verification_status</th>\n",
       "      <th>dti</th>\n",
       "      <th>...</th>\n",
       "      <th>last_week_pay</th>\n",
       "      <th>acc_now_delinq</th>\n",
       "      <th>tot_coll_amt</th>\n",
       "      <th>tot_cur_bal</th>\n",
       "      <th>total_rev_hi_lim</th>\n",
       "      <th>loan_status</th>\n",
       "      <th>grade_num</th>\n",
       "      <th>addr_state_NE</th>\n",
       "      <th>addr_state_S</th>\n",
       "      <th>addr_state_W</th>\n",
       "    </tr>\n",
       "  </thead>\n",
       "  <tbody>\n",
       "    <tr>\n",
       "      <th>0</th>\n",
       "      <td>0</td>\n",
       "      <td>14350</td>\n",
       "      <td>14350</td>\n",
       "      <td>14350.0</td>\n",
       "      <td>0</td>\n",
       "      <td>19.19</td>\n",
       "      <td>9</td>\n",
       "      <td>28700.0</td>\n",
       "      <td>1</td>\n",
       "      <td>33.88</td>\n",
       "      <td>...</td>\n",
       "      <td>26</td>\n",
       "      <td>0.0</td>\n",
       "      <td>0.0</td>\n",
       "      <td>28699.0</td>\n",
       "      <td>30800.0</td>\n",
       "      <td>0</td>\n",
       "      <td>53</td>\n",
       "      <td>0</td>\n",
       "      <td>1</td>\n",
       "      <td>0</td>\n",
       "    </tr>\n",
       "    <tr>\n",
       "      <th>1</th>\n",
       "      <td>1</td>\n",
       "      <td>4800</td>\n",
       "      <td>4800</td>\n",
       "      <td>4800.0</td>\n",
       "      <td>0</td>\n",
       "      <td>10.99</td>\n",
       "      <td>0</td>\n",
       "      <td>65000.0</td>\n",
       "      <td>1</td>\n",
       "      <td>3.64</td>\n",
       "      <td>...</td>\n",
       "      <td>9</td>\n",
       "      <td>0.0</td>\n",
       "      <td>0.0</td>\n",
       "      <td>9974.0</td>\n",
       "      <td>32900.0</td>\n",
       "      <td>0</td>\n",
       "      <td>22</td>\n",
       "      <td>0</td>\n",
       "      <td>1</td>\n",
       "      <td>0</td>\n",
       "    </tr>\n",
       "    <tr>\n",
       "      <th>2</th>\n",
       "      <td>2</td>\n",
       "      <td>10000</td>\n",
       "      <td>10000</td>\n",
       "      <td>10000.0</td>\n",
       "      <td>0</td>\n",
       "      <td>7.26</td>\n",
       "      <td>2</td>\n",
       "      <td>45000.0</td>\n",
       "      <td>0</td>\n",
       "      <td>18.42</td>\n",
       "      <td>...</td>\n",
       "      <td>9</td>\n",
       "      <td>0.0</td>\n",
       "      <td>65.0</td>\n",
       "      <td>38295.0</td>\n",
       "      <td>34900.0</td>\n",
       "      <td>0</td>\n",
       "      <td>12</td>\n",
       "      <td>0</td>\n",
       "      <td>0</td>\n",
       "      <td>0</td>\n",
       "    </tr>\n",
       "    <tr>\n",
       "      <th>3</th>\n",
       "      <td>3</td>\n",
       "      <td>15000</td>\n",
       "      <td>15000</td>\n",
       "      <td>15000.0</td>\n",
       "      <td>0</td>\n",
       "      <td>19.72</td>\n",
       "      <td>10</td>\n",
       "      <td>105000.0</td>\n",
       "      <td>0</td>\n",
       "      <td>14.97</td>\n",
       "      <td>...</td>\n",
       "      <td>135</td>\n",
       "      <td>0.0</td>\n",
       "      <td>0.0</td>\n",
       "      <td>55564.0</td>\n",
       "      <td>24700.0</td>\n",
       "      <td>0</td>\n",
       "      <td>41</td>\n",
       "      <td>0</td>\n",
       "      <td>1</td>\n",
       "      <td>0</td>\n",
       "    </tr>\n",
       "    <tr>\n",
       "      <th>4</th>\n",
       "      <td>4</td>\n",
       "      <td>16000</td>\n",
       "      <td>16000</td>\n",
       "      <td>16000.0</td>\n",
       "      <td>0</td>\n",
       "      <td>10.64</td>\n",
       "      <td>10</td>\n",
       "      <td>52000.0</td>\n",
       "      <td>1</td>\n",
       "      <td>20.16</td>\n",
       "      <td>...</td>\n",
       "      <td>96</td>\n",
       "      <td>0.0</td>\n",
       "      <td>0.0</td>\n",
       "      <td>47159.0</td>\n",
       "      <td>47033.0</td>\n",
       "      <td>0</td>\n",
       "      <td>24</td>\n",
       "      <td>0</td>\n",
       "      <td>0</td>\n",
       "      <td>1</td>\n",
       "    </tr>\n",
       "  </tbody>\n",
       "</table>\n",
       "<p>5 rows × 34 columns</p>\n",
       "</div>"
      ],
      "text/plain": [
       "   Unnamed: 0  loan_amnt  funded_amnt  funded_amnt_inv  term  int_rate  \\\n",
       "0           0      14350        14350          14350.0     0     19.19   \n",
       "1           1       4800         4800           4800.0     0     10.99   \n",
       "2           2      10000        10000          10000.0     0      7.26   \n",
       "3           3      15000        15000          15000.0     0     19.72   \n",
       "4           4      16000        16000          16000.0     0     10.64   \n",
       "\n",
       "   emp_length  annual_inc  verification_status    dti  ...  last_week_pay  \\\n",
       "0           9     28700.0                    1  33.88  ...             26   \n",
       "1           0     65000.0                    1   3.64  ...              9   \n",
       "2           2     45000.0                    0  18.42  ...              9   \n",
       "3          10    105000.0                    0  14.97  ...            135   \n",
       "4          10     52000.0                    1  20.16  ...             96   \n",
       "\n",
       "   acc_now_delinq  tot_coll_amt  tot_cur_bal  total_rev_hi_lim  loan_status  \\\n",
       "0             0.0           0.0      28699.0           30800.0            0   \n",
       "1             0.0           0.0       9974.0           32900.0            0   \n",
       "2             0.0          65.0      38295.0           34900.0            0   \n",
       "3             0.0           0.0      55564.0           24700.0            0   \n",
       "4             0.0           0.0      47159.0           47033.0            0   \n",
       "\n",
       "   grade_num  addr_state_NE  addr_state_S  addr_state_W  \n",
       "0         53              0             1             0  \n",
       "1         22              0             1             0  \n",
       "2         12              0             0             0  \n",
       "3         41              0             1             0  \n",
       "4         24              0             0             1  \n",
       "\n",
       "[5 rows x 34 columns]"
      ]
     },
     "execution_count": 4,
     "metadata": {},
     "output_type": "execute_result"
    }
   ],
   "source": [
    "df.head()"
   ]
  },
  {
   "cell_type": "code",
   "execution_count": 5,
   "id": "e8af01e7",
   "metadata": {},
   "outputs": [
    {
     "data": {
      "text/html": [
       "<div>\n",
       "<style scoped>\n",
       "    .dataframe tbody tr th:only-of-type {\n",
       "        vertical-align: middle;\n",
       "    }\n",
       "\n",
       "    .dataframe tbody tr th {\n",
       "        vertical-align: top;\n",
       "    }\n",
       "\n",
       "    .dataframe thead th {\n",
       "        text-align: right;\n",
       "    }\n",
       "</style>\n",
       "<table border=\"1\" class=\"dataframe\">\n",
       "  <thead>\n",
       "    <tr style=\"text-align: right;\">\n",
       "      <th></th>\n",
       "      <th>loan_amnt</th>\n",
       "      <th>funded_amnt</th>\n",
       "      <th>funded_amnt_inv</th>\n",
       "      <th>term</th>\n",
       "      <th>int_rate</th>\n",
       "      <th>emp_length</th>\n",
       "      <th>annual_inc</th>\n",
       "      <th>verification_status</th>\n",
       "      <th>dti</th>\n",
       "      <th>delinq_2yrs</th>\n",
       "      <th>...</th>\n",
       "      <th>collections_12_mths_ex_med</th>\n",
       "      <th>last_week_pay</th>\n",
       "      <th>acc_now_delinq</th>\n",
       "      <th>tot_coll_amt</th>\n",
       "      <th>tot_cur_bal</th>\n",
       "      <th>total_rev_hi_lim</th>\n",
       "      <th>grade_num</th>\n",
       "      <th>addr_state_NE</th>\n",
       "      <th>addr_state_S</th>\n",
       "      <th>addr_state_W</th>\n",
       "    </tr>\n",
       "  </thead>\n",
       "  <tbody>\n",
       "    <tr>\n",
       "      <th>0</th>\n",
       "      <td>14350</td>\n",
       "      <td>14350</td>\n",
       "      <td>14350.0</td>\n",
       "      <td>0</td>\n",
       "      <td>19.19</td>\n",
       "      <td>9</td>\n",
       "      <td>28700.0</td>\n",
       "      <td>1</td>\n",
       "      <td>33.88</td>\n",
       "      <td>0.0</td>\n",
       "      <td>...</td>\n",
       "      <td>0.0</td>\n",
       "      <td>26</td>\n",
       "      <td>0.0</td>\n",
       "      <td>0.0</td>\n",
       "      <td>28699.0</td>\n",
       "      <td>30800.0</td>\n",
       "      <td>53</td>\n",
       "      <td>0</td>\n",
       "      <td>1</td>\n",
       "      <td>0</td>\n",
       "    </tr>\n",
       "    <tr>\n",
       "      <th>1</th>\n",
       "      <td>4800</td>\n",
       "      <td>4800</td>\n",
       "      <td>4800.0</td>\n",
       "      <td>0</td>\n",
       "      <td>10.99</td>\n",
       "      <td>0</td>\n",
       "      <td>65000.0</td>\n",
       "      <td>1</td>\n",
       "      <td>3.64</td>\n",
       "      <td>0.0</td>\n",
       "      <td>...</td>\n",
       "      <td>0.0</td>\n",
       "      <td>9</td>\n",
       "      <td>0.0</td>\n",
       "      <td>0.0</td>\n",
       "      <td>9974.0</td>\n",
       "      <td>32900.0</td>\n",
       "      <td>22</td>\n",
       "      <td>0</td>\n",
       "      <td>1</td>\n",
       "      <td>0</td>\n",
       "    </tr>\n",
       "    <tr>\n",
       "      <th>2</th>\n",
       "      <td>10000</td>\n",
       "      <td>10000</td>\n",
       "      <td>10000.0</td>\n",
       "      <td>0</td>\n",
       "      <td>7.26</td>\n",
       "      <td>2</td>\n",
       "      <td>45000.0</td>\n",
       "      <td>0</td>\n",
       "      <td>18.42</td>\n",
       "      <td>0.0</td>\n",
       "      <td>...</td>\n",
       "      <td>0.0</td>\n",
       "      <td>9</td>\n",
       "      <td>0.0</td>\n",
       "      <td>65.0</td>\n",
       "      <td>38295.0</td>\n",
       "      <td>34900.0</td>\n",
       "      <td>12</td>\n",
       "      <td>0</td>\n",
       "      <td>0</td>\n",
       "      <td>0</td>\n",
       "    </tr>\n",
       "    <tr>\n",
       "      <th>3</th>\n",
       "      <td>15000</td>\n",
       "      <td>15000</td>\n",
       "      <td>15000.0</td>\n",
       "      <td>0</td>\n",
       "      <td>19.72</td>\n",
       "      <td>10</td>\n",
       "      <td>105000.0</td>\n",
       "      <td>0</td>\n",
       "      <td>14.97</td>\n",
       "      <td>0.0</td>\n",
       "      <td>...</td>\n",
       "      <td>0.0</td>\n",
       "      <td>135</td>\n",
       "      <td>0.0</td>\n",
       "      <td>0.0</td>\n",
       "      <td>55564.0</td>\n",
       "      <td>24700.0</td>\n",
       "      <td>41</td>\n",
       "      <td>0</td>\n",
       "      <td>1</td>\n",
       "      <td>0</td>\n",
       "    </tr>\n",
       "    <tr>\n",
       "      <th>4</th>\n",
       "      <td>16000</td>\n",
       "      <td>16000</td>\n",
       "      <td>16000.0</td>\n",
       "      <td>0</td>\n",
       "      <td>10.64</td>\n",
       "      <td>10</td>\n",
       "      <td>52000.0</td>\n",
       "      <td>1</td>\n",
       "      <td>20.16</td>\n",
       "      <td>0.0</td>\n",
       "      <td>...</td>\n",
       "      <td>0.0</td>\n",
       "      <td>96</td>\n",
       "      <td>0.0</td>\n",
       "      <td>0.0</td>\n",
       "      <td>47159.0</td>\n",
       "      <td>47033.0</td>\n",
       "      <td>24</td>\n",
       "      <td>0</td>\n",
       "      <td>0</td>\n",
       "      <td>1</td>\n",
       "    </tr>\n",
       "  </tbody>\n",
       "</table>\n",
       "<p>5 rows × 32 columns</p>\n",
       "</div>"
      ],
      "text/plain": [
       "   loan_amnt  funded_amnt  funded_amnt_inv  term  int_rate  emp_length  \\\n",
       "0      14350        14350          14350.0     0     19.19           9   \n",
       "1       4800         4800           4800.0     0     10.99           0   \n",
       "2      10000        10000          10000.0     0      7.26           2   \n",
       "3      15000        15000          15000.0     0     19.72          10   \n",
       "4      16000        16000          16000.0     0     10.64          10   \n",
       "\n",
       "   annual_inc  verification_status    dti  delinq_2yrs  ...  \\\n",
       "0     28700.0                    1  33.88          0.0  ...   \n",
       "1     65000.0                    1   3.64          0.0  ...   \n",
       "2     45000.0                    0  18.42          0.0  ...   \n",
       "3    105000.0                    0  14.97          0.0  ...   \n",
       "4     52000.0                    1  20.16          0.0  ...   \n",
       "\n",
       "   collections_12_mths_ex_med  last_week_pay  acc_now_delinq  tot_coll_amt  \\\n",
       "0                         0.0             26             0.0           0.0   \n",
       "1                         0.0              9             0.0           0.0   \n",
       "2                         0.0              9             0.0          65.0   \n",
       "3                         0.0            135             0.0           0.0   \n",
       "4                         0.0             96             0.0           0.0   \n",
       "\n",
       "   tot_cur_bal  total_rev_hi_lim  grade_num  addr_state_NE  addr_state_S  \\\n",
       "0      28699.0           30800.0         53              0             1   \n",
       "1       9974.0           32900.0         22              0             1   \n",
       "2      38295.0           34900.0         12              0             0   \n",
       "3      55564.0           24700.0         41              0             1   \n",
       "4      47159.0           47033.0         24              0             0   \n",
       "\n",
       "   addr_state_W  \n",
       "0             0  \n",
       "1             0  \n",
       "2             0  \n",
       "3             0  \n",
       "4             1  \n",
       "\n",
       "[5 rows x 32 columns]"
      ]
     },
     "execution_count": 5,
     "metadata": {},
     "output_type": "execute_result"
    }
   ],
   "source": [
    "X = df.drop(['Unnamed: 0', 'loan_status'],axis =1)\n",
    "X.head()"
   ]
  },
  {
   "cell_type": "code",
   "execution_count": 6,
   "id": "2ce01002",
   "metadata": {},
   "outputs": [],
   "source": [
    "y = df.loan_status"
   ]
  },
  {
   "cell_type": "code",
   "execution_count": 8,
   "id": "5c1c716b",
   "metadata": {},
   "outputs": [],
   "source": [
    "X_train, X_test, y_train, y_test = train_test_split(X, y , random_state = 10, test_size = 0.2)"
   ]
  },
  {
   "cell_type": "code",
   "execution_count": 9,
   "id": "80b062c6",
   "metadata": {},
   "outputs": [
    {
     "data": {
      "text/html": [
       "<div>\n",
       "<style scoped>\n",
       "    .dataframe tbody tr th:only-of-type {\n",
       "        vertical-align: middle;\n",
       "    }\n",
       "\n",
       "    .dataframe tbody tr th {\n",
       "        vertical-align: top;\n",
       "    }\n",
       "\n",
       "    .dataframe thead th {\n",
       "        text-align: right;\n",
       "    }\n",
       "</style>\n",
       "<table border=\"1\" class=\"dataframe\">\n",
       "  <thead>\n",
       "    <tr style=\"text-align: right;\">\n",
       "      <th></th>\n",
       "      <th>loan_amnt</th>\n",
       "      <th>funded_amnt</th>\n",
       "      <th>funded_amnt_inv</th>\n",
       "      <th>term</th>\n",
       "      <th>int_rate</th>\n",
       "      <th>emp_length</th>\n",
       "      <th>annual_inc</th>\n",
       "      <th>verification_status</th>\n",
       "      <th>dti</th>\n",
       "      <th>delinq_2yrs</th>\n",
       "      <th>...</th>\n",
       "      <th>collections_12_mths_ex_med</th>\n",
       "      <th>last_week_pay</th>\n",
       "      <th>acc_now_delinq</th>\n",
       "      <th>tot_coll_amt</th>\n",
       "      <th>tot_cur_bal</th>\n",
       "      <th>total_rev_hi_lim</th>\n",
       "      <th>grade_num</th>\n",
       "      <th>addr_state_NE</th>\n",
       "      <th>addr_state_S</th>\n",
       "      <th>addr_state_W</th>\n",
       "    </tr>\n",
       "  </thead>\n",
       "  <tbody>\n",
       "    <tr>\n",
       "      <th>279906</th>\n",
       "      <td>19200</td>\n",
       "      <td>19200</td>\n",
       "      <td>19200.0</td>\n",
       "      <td>0</td>\n",
       "      <td>9.17</td>\n",
       "      <td>10</td>\n",
       "      <td>130000.0</td>\n",
       "      <td>0</td>\n",
       "      <td>16.88</td>\n",
       "      <td>1.0</td>\n",
       "      <td>...</td>\n",
       "      <td>0.0</td>\n",
       "      <td>39</td>\n",
       "      <td>0.0</td>\n",
       "      <td>0.0</td>\n",
       "      <td>834246.0</td>\n",
       "      <td>21300.0</td>\n",
       "      <td>24</td>\n",
       "      <td>0</td>\n",
       "      <td>0</td>\n",
       "      <td>1</td>\n",
       "    </tr>\n",
       "    <tr>\n",
       "      <th>479937</th>\n",
       "      <td>12000</td>\n",
       "      <td>12000</td>\n",
       "      <td>12000.0</td>\n",
       "      <td>0</td>\n",
       "      <td>5.32</td>\n",
       "      <td>1</td>\n",
       "      <td>90000.0</td>\n",
       "      <td>0</td>\n",
       "      <td>13.28</td>\n",
       "      <td>0.0</td>\n",
       "      <td>...</td>\n",
       "      <td>0.0</td>\n",
       "      <td>4</td>\n",
       "      <td>0.0</td>\n",
       "      <td>0.0</td>\n",
       "      <td>47189.0</td>\n",
       "      <td>129300.0</td>\n",
       "      <td>15</td>\n",
       "      <td>0</td>\n",
       "      <td>0</td>\n",
       "      <td>0</td>\n",
       "    </tr>\n",
       "    <tr>\n",
       "      <th>319455</th>\n",
       "      <td>6500</td>\n",
       "      <td>6500</td>\n",
       "      <td>6500.0</td>\n",
       "      <td>0</td>\n",
       "      <td>8.19</td>\n",
       "      <td>10</td>\n",
       "      <td>77000.0</td>\n",
       "      <td>0</td>\n",
       "      <td>12.28</td>\n",
       "      <td>0.0</td>\n",
       "      <td>...</td>\n",
       "      <td>0.0</td>\n",
       "      <td>52</td>\n",
       "      <td>0.0</td>\n",
       "      <td>0.0</td>\n",
       "      <td>236076.0</td>\n",
       "      <td>12200.0</td>\n",
       "      <td>11</td>\n",
       "      <td>0</td>\n",
       "      <td>0</td>\n",
       "      <td>1</td>\n",
       "    </tr>\n",
       "    <tr>\n",
       "      <th>317931</th>\n",
       "      <td>26850</td>\n",
       "      <td>26850</td>\n",
       "      <td>26850.0</td>\n",
       "      <td>0</td>\n",
       "      <td>17.86</td>\n",
       "      <td>10</td>\n",
       "      <td>97800.0</td>\n",
       "      <td>1</td>\n",
       "      <td>13.60</td>\n",
       "      <td>0.0</td>\n",
       "      <td>...</td>\n",
       "      <td>0.0</td>\n",
       "      <td>35</td>\n",
       "      <td>0.0</td>\n",
       "      <td>0.0</td>\n",
       "      <td>176796.0</td>\n",
       "      <td>61900.0</td>\n",
       "      <td>41</td>\n",
       "      <td>0</td>\n",
       "      <td>1</td>\n",
       "      <td>0</td>\n",
       "    </tr>\n",
       "    <tr>\n",
       "      <th>426404</th>\n",
       "      <td>15000</td>\n",
       "      <td>15000</td>\n",
       "      <td>15000.0</td>\n",
       "      <td>0</td>\n",
       "      <td>6.62</td>\n",
       "      <td>4</td>\n",
       "      <td>67300.0</td>\n",
       "      <td>0</td>\n",
       "      <td>13.25</td>\n",
       "      <td>0.0</td>\n",
       "      <td>...</td>\n",
       "      <td>0.0</td>\n",
       "      <td>100</td>\n",
       "      <td>0.0</td>\n",
       "      <td>0.0</td>\n",
       "      <td>187890.0</td>\n",
       "      <td>25300.0</td>\n",
       "      <td>14</td>\n",
       "      <td>0</td>\n",
       "      <td>0</td>\n",
       "      <td>1</td>\n",
       "    </tr>\n",
       "  </tbody>\n",
       "</table>\n",
       "<p>5 rows × 32 columns</p>\n",
       "</div>"
      ],
      "text/plain": [
       "        loan_amnt  funded_amnt  funded_amnt_inv  term  int_rate  emp_length  \\\n",
       "279906      19200        19200          19200.0     0      9.17          10   \n",
       "479937      12000        12000          12000.0     0      5.32           1   \n",
       "319455       6500         6500           6500.0     0      8.19          10   \n",
       "317931      26850        26850          26850.0     0     17.86          10   \n",
       "426404      15000        15000          15000.0     0      6.62           4   \n",
       "\n",
       "        annual_inc  verification_status    dti  delinq_2yrs  ...  \\\n",
       "279906    130000.0                    0  16.88          1.0  ...   \n",
       "479937     90000.0                    0  13.28          0.0  ...   \n",
       "319455     77000.0                    0  12.28          0.0  ...   \n",
       "317931     97800.0                    1  13.60          0.0  ...   \n",
       "426404     67300.0                    0  13.25          0.0  ...   \n",
       "\n",
       "        collections_12_mths_ex_med  last_week_pay  acc_now_delinq  \\\n",
       "279906                         0.0             39             0.0   \n",
       "479937                         0.0              4             0.0   \n",
       "319455                         0.0             52             0.0   \n",
       "317931                         0.0             35             0.0   \n",
       "426404                         0.0            100             0.0   \n",
       "\n",
       "        tot_coll_amt  tot_cur_bal  total_rev_hi_lim  grade_num  addr_state_NE  \\\n",
       "279906           0.0     834246.0           21300.0         24              0   \n",
       "479937           0.0      47189.0          129300.0         15              0   \n",
       "319455           0.0     236076.0           12200.0         11              0   \n",
       "317931           0.0     176796.0           61900.0         41              0   \n",
       "426404           0.0     187890.0           25300.0         14              0   \n",
       "\n",
       "        addr_state_S  addr_state_W  \n",
       "279906             0             1  \n",
       "479937             0             0  \n",
       "319455             0             1  \n",
       "317931             1             0  \n",
       "426404             0             1  \n",
       "\n",
       "[5 rows x 32 columns]"
      ]
     },
     "execution_count": 9,
     "metadata": {},
     "output_type": "execute_result"
    }
   ],
   "source": [
    "X_train.head()"
   ]
  },
  {
   "cell_type": "code",
   "execution_count": 10,
   "id": "b6bd6b5d",
   "metadata": {},
   "outputs": [],
   "source": [
    "y_train = y_train.values.reshape(-1,1)"
   ]
  },
  {
   "cell_type": "code",
   "execution_count": 11,
   "id": "683db774",
   "metadata": {},
   "outputs": [
    {
     "name": "stdout",
     "output_type": "stream",
     "text": [
      "X_train (425929, 32)\n",
      "y_train (425929, 1)\n",
      "X_test (106483, 32)\n",
      "y_test (106483,)\n"
     ]
    }
   ],
   "source": [
    "print('X_train', X_train.shape)\n",
    "print('y_train', y_train.shape)\n",
    "\n",
    "# print dimension of test set\n",
    "print('X_test', X_test.shape)\n",
    "print('y_test', y_test.shape)"
   ]
  },
  {
   "cell_type": "code",
   "execution_count": 12,
   "id": "77caf049",
   "metadata": {},
   "outputs": [
    {
     "name": "stdout",
     "output_type": "stream",
     "text": [
      "Warning: Maximum number of iterations has been exceeded.\n",
      "         Current function value: 0.456678\n",
      "         Iterations: 35\n"
     ]
    },
    {
     "name": "stderr",
     "output_type": "stream",
     "text": [
      "C:\\Users\\Ashish\\anaconda3\\lib\\site-packages\\statsmodels\\base\\model.py:566: ConvergenceWarning: Maximum Likelihood optimization failed to converge. Check mle_retvals\n",
      "  warnings.warn(\"Maximum Likelihood optimization failed to \"\n"
     ]
    },
    {
     "name": "stdout",
     "output_type": "stream",
     "text": [
      "                           Logit Regression Results                           \n",
      "==============================================================================\n",
      "Dep. Variable:                      y   No. Observations:               425929\n",
      "Model:                          Logit   Df Residuals:                   425896\n",
      "Method:                           MLE   Df Model:                           32\n",
      "Date:                Fri, 12 Aug 2022   Pseudo R-squ.:                  0.1648\n",
      "Time:                        00:24:56   Log-Likelihood:            -1.9451e+05\n",
      "converged:                      False   LL-Null:                   -2.3290e+05\n",
      "Covariance Type:            nonrobust   LLR p-value:                     0.000\n",
      "==============================================================================================\n",
      "                                 coef    std err          z      P>|z|      [0.025      0.975]\n",
      "----------------------------------------------------------------------------------------------\n",
      "const                         -1.7144      0.029    -60.138      0.000      -1.770      -1.659\n",
      "loan_amnt                      0.0002   1.64e-05     15.073      0.000       0.000       0.000\n",
      "funded_amnt                 9.311e-05   2.27e-05      4.111      0.000    4.87e-05       0.000\n",
      "funded_amnt_inv               -0.0003   1.47e-05    -22.649      0.000      -0.000      -0.000\n",
      "term                          -0.5867      0.012    -50.253      0.000      -0.610      -0.564\n",
      "int_rate                       0.2260      0.003     83.625      0.000       0.221       0.231\n",
      "emp_length                     0.0034      0.001      3.173      0.002       0.001       0.005\n",
      "annual_inc                 -2.065e-07   8.42e-08     -2.452      0.014   -3.72e-07   -4.14e-08\n",
      "verification_status           -0.1526      0.009    -16.731      0.000      -0.170      -0.135\n",
      "dti                           -0.0348      0.001    -60.631      0.000      -0.036      -0.034\n",
      "delinq_2yrs                   -0.1981      0.006    -34.522      0.000      -0.209      -0.187\n",
      "inq_last_6mths                 0.1258      0.004     30.625      0.000       0.118       0.134\n",
      "mths_since_last_delinq        -0.0038      0.000    -21.117      0.000      -0.004      -0.003\n",
      "open_acc                      -0.0443      0.001    -38.669      0.000      -0.047      -0.042\n",
      "pub_rec                       -0.3318      0.009    -35.965      0.000      -0.350      -0.314\n",
      "revol_bal                    3.61e-06   4.06e-07      8.902      0.000    2.81e-06     4.4e-06\n",
      "revol_util                    -0.0071      0.000    -32.753      0.000      -0.007      -0.007\n",
      "total_acc                      0.0284      0.000     58.723      0.000       0.027       0.029\n",
      "initial_list_status           -0.7903      0.009    -90.443      0.000      -0.807      -0.773\n",
      "total_rec_int                 -0.0002   3.75e-06    -44.141      0.000      -0.000      -0.000\n",
      "total_rec_late_fee            -0.0104      0.001     -8.918      0.000      -0.013      -0.008\n",
      "recoveries                   -20.7770   9.11e+10  -2.28e-10      1.000   -1.79e+11    1.79e+11\n",
      "collection_recovery_fee     -167.7813   5.06e+11  -3.31e-10      1.000   -9.92e+11    9.92e+11\n",
      "collections_12_mths_ex_med    -0.6342      0.043    -14.865      0.000      -0.718      -0.551\n",
      "last_week_pay                  0.0118      0.000     94.373      0.000       0.012       0.012\n",
      "acc_now_delinq                -0.2652      0.063     -4.204      0.000      -0.389      -0.142\n",
      "tot_coll_amt               -5.995e-05   4.07e-06    -14.729      0.000   -6.79e-05    -5.2e-05\n",
      "tot_cur_bal                 1.717e-07   3.31e-08      5.184      0.000    1.07e-07    2.37e-07\n",
      "total_rev_hi_lim           -3.165e-06   3.01e-07    -10.502      0.000   -3.76e-06   -2.57e-06\n",
      "grade_num                     -0.0542      0.001    -64.928      0.000      -0.056      -0.053\n",
      "addr_state_NE                  0.0796      0.013      5.972      0.000       0.053       0.106\n",
      "addr_state_S                   0.1085      0.012      9.032      0.000       0.085       0.132\n",
      "addr_state_W                   0.2729      0.012     21.914      0.000       0.248       0.297\n",
      "==============================================================================================\n"
     ]
    }
   ],
   "source": [
    "X_train = sm.add_constant(X_train)\n",
    "logreg = sm.Logit(y_train , X_train).fit()\n",
    "print(logreg.summary())"
   ]
  },
  {
   "cell_type": "code",
   "execution_count": 13,
   "id": "a42d67ba",
   "metadata": {},
   "outputs": [
    {
     "data": {
      "text/plain": [
       "0.7648434363473724"
      ]
     },
     "execution_count": 13,
     "metadata": {},
     "output_type": "execute_result"
    }
   ],
   "source": [
    "from sklearn.linear_model import LogisticRegression\n",
    "logreg = LogisticRegression()\n",
    "logreg.fit(X_train, y_train)\n",
    "\n",
    "logreg.score(X_train, y_train)"
   ]
  },
  {
   "cell_type": "code",
   "execution_count": 14,
   "id": "205f34f8",
   "metadata": {},
   "outputs": [],
   "source": [
    "X_test = sm.add_constant(X_test)"
   ]
  },
  {
   "cell_type": "code",
   "execution_count": 68,
   "id": "5427f4a0",
   "metadata": {},
   "outputs": [
    {
     "name": "stdout",
     "output_type": "stream",
     "text": [
      "              precision    recall  f1-score   support\n",
      "\n",
      "           0       0.77      1.00      0.87     81326\n",
      "           1       0.58      0.02      0.04     25157\n",
      "\n",
      "    accuracy                           0.77    106483\n",
      "   macro avg       0.67      0.51      0.45    106483\n",
      "weighted avg       0.72      0.77      0.67    106483\n",
      "\n"
     ]
    }
   ],
   "source": [
    "y_pred = logreg.predict(X_test)\n",
    "from sklearn.metrics import classification_report\n",
    "print(classification_report(y_test,y_pred))"
   ]
  },
  {
   "cell_type": "markdown",
   "id": "8a275e01",
   "metadata": {},
   "source": [
    "### Balancing the data through SMOTE techniques"
   ]
  },
  {
   "cell_type": "code",
   "execution_count": 17,
   "id": "9badfeaa",
   "metadata": {},
   "outputs": [],
   "source": [
    "from imblearn.over_sampling import SMOTE"
   ]
  },
  {
   "cell_type": "code",
   "execution_count": 21,
   "id": "bd5d4767",
   "metadata": {},
   "outputs": [],
   "source": [
    "sm = SMOTE(random_state = 2)\n",
    "X_train_res, y_train_res = sm.fit_resample(X_train, y_train.ravel())"
   ]
  },
  {
   "cell_type": "code",
   "execution_count": 22,
   "id": "b435baa7",
   "metadata": {},
   "outputs": [
    {
     "name": "stdout",
     "output_type": "stream",
     "text": [
      "(650544, 33)\n",
      "(650544,)\n"
     ]
    }
   ],
   "source": [
    "print(X_train_res.shape)\n",
    "print(y_train_res.shape)"
   ]
  },
  {
   "cell_type": "code",
   "execution_count": 23,
   "id": "b174c7fe",
   "metadata": {},
   "outputs": [
    {
     "name": "stdout",
     "output_type": "stream",
     "text": [
      "Total counts of 1 325272\n",
      "Total counts of 0 325272\n"
     ]
    }
   ],
   "source": [
    "print('Total counts of 1',sum(y_train_res == 1))\n",
    "print('Total counts of 0',sum(y_train_res == 0))"
   ]
  },
  {
   "cell_type": "code",
   "execution_count": 72,
   "id": "404b1721",
   "metadata": {},
   "outputs": [
    {
     "name": "stdout",
     "output_type": "stream",
     "text": [
      "              precision    recall  f1-score   support\n",
      "\n",
      "           0       0.85      0.62      0.71     81326\n",
      "           1       0.34      0.64      0.44     25157\n",
      "\n",
      "    accuracy                           0.62    106483\n",
      "   macro avg       0.59      0.63      0.58    106483\n",
      "weighted avg       0.73      0.62      0.65    106483\n",
      "\n"
     ]
    }
   ],
   "source": [
    "from sklearn.linear_model import LogisticRegression\n",
    "logreg1 = LogisticRegression()\n",
    "logreg1.fit(X_train_res, y_train_res)\n",
    "\n",
    "y_pred_s = logreg1.predict(X_test)\n",
    "\n",
    "print(classification_report(y_test,y_pred_s))"
   ]
  },
  {
   "cell_type": "code",
   "execution_count": 73,
   "id": "cf4c9ad5",
   "metadata": {},
   "outputs": [
    {
     "data": {
      "image/png": "[encoded data removed]",
      "text/plain": [
       "<Figure size 432x288 with 2 Axes>"
      ]
     },
     "metadata": {
      "needs_background": "light"
     },
     "output_type": "display_data"
    }
   ],
   "source": [
    "from sklearn.metrics import confusion_matrix\n",
    "cm = confusion_matrix(y_test, y_pred_s)\n",
    "cm\n",
    "conf_mat = pd.DataFrame(data = cm, columns = ['Predicted: No', 'Predicted: Yes'],\n",
    "                       index = ['Actual: No', 'Actual: Yes'])\n",
    "\n",
    "sns.heatmap(conf_mat, annot = True, fmt = 'd')\n",
    "plt.show()"
   ]
  },
  {
   "cell_type": "markdown",
   "id": "0e2920dc",
   "metadata": {},
   "source": [
    "### Removing VIF Columns (VIF>10)"
   ]
  },
  {
   "cell_type": "code",
   "execution_count": 25,
   "id": "870f77aa",
   "metadata": {},
   "outputs": [
    {
     "name": "stdout",
     "output_type": "stream",
     "text": [
      "                       feature          VIF\n",
      "0                    loan_amnt  2855.921532\n",
      "1                  funded_amnt  4168.188315\n",
      "2              funded_amnt_inv  1072.653077\n",
      "3                         term     2.188309\n",
      "4                     int_rate    75.700366\n",
      "5                   emp_length     3.258455\n",
      "6                   annual_inc     3.153794\n",
      "7          verification_status     3.759441\n",
      "8                          dti     7.279203\n",
      "9                  delinq_2yrs     1.215289\n",
      "10              inq_last_6mths     1.712806\n",
      "11      mths_since_last_delinq     1.608487\n",
      "12                    open_acc    12.393602\n",
      "13                     pub_rec     1.162695\n",
      "14                   revol_bal     5.658443\n",
      "15                  revol_util     8.958564\n",
      "16                   total_acc    11.932072\n",
      "17         initial_list_status     2.153222\n",
      "18               total_rec_int     4.698179\n",
      "19          total_rec_late_fee     1.028130\n",
      "20                  recoveries     2.863418\n",
      "21     collection_recovery_fee     2.810025\n",
      "22  collections_12_mths_ex_med     1.024710\n",
      "23               last_week_pay     4.690426\n",
      "24              acc_now_delinq     1.028353\n",
      "25                tot_coll_amt     1.022784\n",
      "26                 tot_cur_bal     2.738057\n",
      "27            total_rev_hi_lim     6.059459\n",
      "28                   grade_num    48.512574\n",
      "29               addr_state_NE     2.059569\n",
      "30                addr_state_S     2.816936\n",
      "31                addr_state_W     2.345352\n"
     ]
    }
   ],
   "source": [
    "vif_data = pd.DataFrame()\n",
    "vif_data[\"feature\"] = X.columns\n",
    "\n",
    "vif_data[\"VIF\"] = [variance_inflation_factor(X.values, i)\n",
    "                          for i in range(len(X.columns))]\n",
    "  \n",
    "print(vif_data)"
   ]
  },
  {
   "cell_type": "code",
   "execution_count": 27,
   "id": "029e5732",
   "metadata": {},
   "outputs": [],
   "source": [
    "X_new = X.drop(['funded_amnt_inv','open_acc','int_rate','grade_num','last_week_pay','total_rec_int','total_rec_late_fee','total_acc'],axis =1)"
   ]
  },
  {
   "cell_type": "code",
   "execution_count": 28,
   "id": "6c26b233",
   "metadata": {},
   "outputs": [
    {
     "data": {
      "text/html": [
       "<div>\n",
       "<style scoped>\n",
       "    .dataframe tbody tr th:only-of-type {\n",
       "        vertical-align: middle;\n",
       "    }\n",
       "\n",
       "    .dataframe tbody tr th {\n",
       "        vertical-align: top;\n",
       "    }\n",
       "\n",
       "    .dataframe thead th {\n",
       "        text-align: right;\n",
       "    }\n",
       "</style>\n",
       "<table border=\"1\" class=\"dataframe\">\n",
       "  <thead>\n",
       "    <tr style=\"text-align: right;\">\n",
       "      <th></th>\n",
       "      <th>loan_amnt</th>\n",
       "      <th>funded_amnt</th>\n",
       "      <th>term</th>\n",
       "      <th>emp_length</th>\n",
       "      <th>annual_inc</th>\n",
       "      <th>verification_status</th>\n",
       "      <th>dti</th>\n",
       "      <th>delinq_2yrs</th>\n",
       "      <th>inq_last_6mths</th>\n",
       "      <th>mths_since_last_delinq</th>\n",
       "      <th>...</th>\n",
       "      <th>recoveries</th>\n",
       "      <th>collection_recovery_fee</th>\n",
       "      <th>collections_12_mths_ex_med</th>\n",
       "      <th>acc_now_delinq</th>\n",
       "      <th>tot_coll_amt</th>\n",
       "      <th>tot_cur_bal</th>\n",
       "      <th>total_rev_hi_lim</th>\n",
       "      <th>addr_state_NE</th>\n",
       "      <th>addr_state_S</th>\n",
       "      <th>addr_state_W</th>\n",
       "    </tr>\n",
       "  </thead>\n",
       "  <tbody>\n",
       "    <tr>\n",
       "      <th>0</th>\n",
       "      <td>14350</td>\n",
       "      <td>14350</td>\n",
       "      <td>0</td>\n",
       "      <td>9</td>\n",
       "      <td>28700.0</td>\n",
       "      <td>1</td>\n",
       "      <td>33.88</td>\n",
       "      <td>0.0</td>\n",
       "      <td>1.0</td>\n",
       "      <td>50.0</td>\n",
       "      <td>...</td>\n",
       "      <td>0.0</td>\n",
       "      <td>0.0</td>\n",
       "      <td>0.0</td>\n",
       "      <td>0.0</td>\n",
       "      <td>0.0</td>\n",
       "      <td>28699.0</td>\n",
       "      <td>30800.0</td>\n",
       "      <td>0</td>\n",
       "      <td>1</td>\n",
       "      <td>0</td>\n",
       "    </tr>\n",
       "    <tr>\n",
       "      <th>1</th>\n",
       "      <td>4800</td>\n",
       "      <td>4800</td>\n",
       "      <td>0</td>\n",
       "      <td>0</td>\n",
       "      <td>65000.0</td>\n",
       "      <td>1</td>\n",
       "      <td>3.64</td>\n",
       "      <td>0.0</td>\n",
       "      <td>1.0</td>\n",
       "      <td>0.0</td>\n",
       "      <td>...</td>\n",
       "      <td>0.0</td>\n",
       "      <td>0.0</td>\n",
       "      <td>0.0</td>\n",
       "      <td>0.0</td>\n",
       "      <td>0.0</td>\n",
       "      <td>9974.0</td>\n",
       "      <td>32900.0</td>\n",
       "      <td>0</td>\n",
       "      <td>1</td>\n",
       "      <td>0</td>\n",
       "    </tr>\n",
       "    <tr>\n",
       "      <th>2</th>\n",
       "      <td>10000</td>\n",
       "      <td>10000</td>\n",
       "      <td>0</td>\n",
       "      <td>2</td>\n",
       "      <td>45000.0</td>\n",
       "      <td>0</td>\n",
       "      <td>18.42</td>\n",
       "      <td>0.0</td>\n",
       "      <td>0.0</td>\n",
       "      <td>0.0</td>\n",
       "      <td>...</td>\n",
       "      <td>0.0</td>\n",
       "      <td>0.0</td>\n",
       "      <td>0.0</td>\n",
       "      <td>0.0</td>\n",
       "      <td>65.0</td>\n",
       "      <td>38295.0</td>\n",
       "      <td>34900.0</td>\n",
       "      <td>0</td>\n",
       "      <td>0</td>\n",
       "      <td>0</td>\n",
       "    </tr>\n",
       "    <tr>\n",
       "      <th>3</th>\n",
       "      <td>15000</td>\n",
       "      <td>15000</td>\n",
       "      <td>0</td>\n",
       "      <td>10</td>\n",
       "      <td>105000.0</td>\n",
       "      <td>0</td>\n",
       "      <td>14.97</td>\n",
       "      <td>0.0</td>\n",
       "      <td>2.0</td>\n",
       "      <td>46.0</td>\n",
       "      <td>...</td>\n",
       "      <td>0.0</td>\n",
       "      <td>0.0</td>\n",
       "      <td>0.0</td>\n",
       "      <td>0.0</td>\n",
       "      <td>0.0</td>\n",
       "      <td>55564.0</td>\n",
       "      <td>24700.0</td>\n",
       "      <td>0</td>\n",
       "      <td>1</td>\n",
       "      <td>0</td>\n",
       "    </tr>\n",
       "    <tr>\n",
       "      <th>4</th>\n",
       "      <td>16000</td>\n",
       "      <td>16000</td>\n",
       "      <td>0</td>\n",
       "      <td>10</td>\n",
       "      <td>52000.0</td>\n",
       "      <td>1</td>\n",
       "      <td>20.16</td>\n",
       "      <td>0.0</td>\n",
       "      <td>0.0</td>\n",
       "      <td>0.0</td>\n",
       "      <td>...</td>\n",
       "      <td>0.0</td>\n",
       "      <td>0.0</td>\n",
       "      <td>0.0</td>\n",
       "      <td>0.0</td>\n",
       "      <td>0.0</td>\n",
       "      <td>47159.0</td>\n",
       "      <td>47033.0</td>\n",
       "      <td>0</td>\n",
       "      <td>0</td>\n",
       "      <td>1</td>\n",
       "    </tr>\n",
       "  </tbody>\n",
       "</table>\n",
       "<p>5 rows × 24 columns</p>\n",
       "</div>"
      ],
      "text/plain": [
       "   loan_amnt  funded_amnt  term  emp_length  annual_inc  verification_status  \\\n",
       "0      14350        14350     0           9     28700.0                    1   \n",
       "1       4800         4800     0           0     65000.0                    1   \n",
       "2      10000        10000     0           2     45000.0                    0   \n",
       "3      15000        15000     0          10    105000.0                    0   \n",
       "4      16000        16000     0          10     52000.0                    1   \n",
       "\n",
       "     dti  delinq_2yrs  inq_last_6mths  mths_since_last_delinq  ...  \\\n",
       "0  33.88          0.0             1.0                    50.0  ...   \n",
       "1   3.64          0.0             1.0                     0.0  ...   \n",
       "2  18.42          0.0             0.0                     0.0  ...   \n",
       "3  14.97          0.0             2.0                    46.0  ...   \n",
       "4  20.16          0.0             0.0                     0.0  ...   \n",
       "\n",
       "   recoveries  collection_recovery_fee  collections_12_mths_ex_med  \\\n",
       "0         0.0                      0.0                         0.0   \n",
       "1         0.0                      0.0                         0.0   \n",
       "2         0.0                      0.0                         0.0   \n",
       "3         0.0                      0.0                         0.0   \n",
       "4         0.0                      0.0                         0.0   \n",
       "\n",
       "   acc_now_delinq  tot_coll_amt  tot_cur_bal  total_rev_hi_lim  addr_state_NE  \\\n",
       "0             0.0           0.0      28699.0           30800.0              0   \n",
       "1             0.0           0.0       9974.0           32900.0              0   \n",
       "2             0.0          65.0      38295.0           34900.0              0   \n",
       "3             0.0           0.0      55564.0           24700.0              0   \n",
       "4             0.0           0.0      47159.0           47033.0              0   \n",
       "\n",
       "   addr_state_S  addr_state_W  \n",
       "0             1             0  \n",
       "1             1             0  \n",
       "2             0             0  \n",
       "3             1             0  \n",
       "4             0             1  \n",
       "\n",
       "[5 rows x 24 columns]"
      ]
     },
     "execution_count": 28,
     "metadata": {},
     "output_type": "execute_result"
    }
   ],
   "source": [
    "X_new.head()"
   ]
  },
  {
   "cell_type": "code",
   "execution_count": 31,
   "id": "ebfdce2a",
   "metadata": {},
   "outputs": [
    {
     "name": "stdout",
     "output_type": "stream",
     "text": [
      "                       feature          VIF\n",
      "0                    loan_amnt  2820.815845\n",
      "1                  funded_amnt  2819.747353\n",
      "2                         term     1.781153\n",
      "3                   emp_length     3.153719\n",
      "4                   annual_inc     3.088680\n",
      "5          verification_status     3.615353\n",
      "6                          dti     5.470169\n",
      "7                  delinq_2yrs     1.175870\n",
      "8               inq_last_6mths     1.470629\n",
      "9       mths_since_last_delinq     1.542408\n",
      "10                     pub_rec     1.138399\n",
      "11                   revol_bal     5.333808\n",
      "12                  revol_util     6.861279\n",
      "13         initial_list_status     1.968210\n",
      "14                  recoveries     2.842030\n",
      "15     collection_recovery_fee     2.803597\n",
      "16  collections_12_mths_ex_med     1.023162\n",
      "17              acc_now_delinq     1.026972\n",
      "18                tot_coll_amt     1.021138\n",
      "19                 tot_cur_bal     2.607835\n",
      "20            total_rev_hi_lim     5.572808\n",
      "21               addr_state_NE     1.880873\n",
      "22                addr_state_S     2.562909\n",
      "23                addr_state_W     2.129963\n"
     ]
    }
   ],
   "source": [
    "vif_new = pd.DataFrame()\n",
    "vif_new[\"feature\"] = X_new.columns\n",
    "  \n",
    "# calculating VIF for each feature\n",
    "vif_new[\"VIF\"] = [variance_inflation_factor(X_new.values, i)\n",
    "                          for i in range(len(X_new.columns))]\n",
    "  \n",
    "print(vif_new)"
   ]
  },
  {
   "cell_type": "code",
   "execution_count": 34,
   "id": "c9c519f3",
   "metadata": {},
   "outputs": [],
   "source": [
    "X_train2, X_test2, y_train2, y_test2 = train_test_split(X_new, y , random_state = 10, test_size = 0.2)"
   ]
  },
  {
   "cell_type": "code",
   "execution_count": 36,
   "id": "3ef3a253",
   "metadata": {},
   "outputs": [],
   "source": [
    "y_train2 = y_train2.values.reshape(-1,1)"
   ]
  },
  {
   "cell_type": "code",
   "execution_count": 37,
   "id": "30a41485",
   "metadata": {},
   "outputs": [
    {
     "name": "stdout",
     "output_type": "stream",
     "text": [
      "X_train (425929, 24)\n",
      "y_train (425929, 1)\n",
      "X_test (106483, 24)\n",
      "y_test (106483,)\n"
     ]
    }
   ],
   "source": [
    "print('X_train', X_train2.shape)\n",
    "print('y_train', y_train2.shape)\n",
    "\n",
    "# print dimension of test set\n",
    "print('X_test', X_test2.shape)\n",
    "print('y_test', y_test2.shape)"
   ]
  },
  {
   "cell_type": "code",
   "execution_count": 38,
   "id": "52df847d",
   "metadata": {},
   "outputs": [],
   "source": [
    "# Using SMOTE technique to create synthetics data point\n",
    "sm = SMOTE(random_state = 2)\n",
    "X_train_new, y_train_new = sm.fit_resample(X_train2, y_train2.ravel())"
   ]
  },
  {
   "cell_type": "code",
   "execution_count": 42,
   "id": "30d9428c",
   "metadata": {},
   "outputs": [
    {
     "name": "stdout",
     "output_type": "stream",
     "text": [
      "(650544, 24)\n",
      "(650544,)\n"
     ]
    }
   ],
   "source": [
    "print(X_train_new.shape)\n",
    "print(y_train_new.shape)"
   ]
  },
  {
   "cell_type": "code",
   "execution_count": 43,
   "id": "67e49a59",
   "metadata": {},
   "outputs": [
    {
     "name": "stdout",
     "output_type": "stream",
     "text": [
      "Total counts of 1 325272\n",
      "Total counts of 0 325272\n"
     ]
    }
   ],
   "source": [
    "print('Total counts of 1',sum(y_train_new == 1))\n",
    "print('Total counts of 0',sum(y_train_new == 0))"
   ]
  },
  {
   "cell_type": "markdown",
   "id": "53235a95",
   "metadata": {},
   "source": [
    "#### Again Cross checking the Logistic Regreession Algorithm"
   ]
  },
  {
   "cell_type": "code",
   "execution_count": 45,
   "id": "96d493f0",
   "metadata": {},
   "outputs": [
    {
     "name": "stdout",
     "output_type": "stream",
     "text": [
      "              precision    recall  f1-score   support\n",
      "\n",
      "           0       0.81      0.56      0.66     81326\n",
      "           1       0.28      0.57      0.38     25157\n",
      "\n",
      "    accuracy                           0.56    106483\n",
      "   macro avg       0.55      0.56      0.52    106483\n",
      "weighted avg       0.68      0.56      0.59    106483\n",
      "\n"
     ]
    }
   ],
   "source": [
    "logreg2 = LogisticRegression()\n",
    "logreg2.fit(X_train_new, y_train_new)\n",
    "\n",
    "y_pred2 = logreg2.predict(X_test2)\n",
    "\n",
    "print(classification_report(y_test2,y_pred2))"
   ]
  },
  {
   "cell_type": "code",
   "execution_count": 74,
   "id": "2b089adc",
   "metadata": {},
   "outputs": [
    {
     "data": {
      "image/png": "[encoded data removed]",
      "text/plain": [
       "<Figure size 432x288 with 2 Axes>"
      ]
     },
     "metadata": {
      "needs_background": "light"
     },
     "output_type": "display_data"
    }
   ],
   "source": [
    "cm = confusion_matrix(y_test2,y_pred2)\n",
    "cm\n",
    "conf_mat = pd.DataFrame(data = cm, columns = ['Predicted: No', 'Predicted: Yes'],\n",
    "                       index = ['Actual: No', 'Actual: Yes'])\n",
    "\n",
    "sns.heatmap(conf_mat, annot = True, fmt = 'd')\n",
    "plt.show()"
   ]
  },
  {
   "cell_type": "markdown",
   "id": "59b1a5dc",
   "metadata": {},
   "source": [
    "# AdaBoost"
   ]
  },
  {
   "cell_type": "code",
   "execution_count": 81,
   "id": "2d2ef652",
   "metadata": {},
   "outputs": [
    {
     "name": "stdout",
     "output_type": "stream",
     "text": [
      "              precision    recall  f1-score   support\n",
      "\n",
      "           0       0.82      0.93      0.87     81326\n",
      "           1       0.60      0.36      0.45     25157\n",
      "\n",
      "    accuracy                           0.79    106483\n",
      "   macro avg       0.71      0.64      0.66    106483\n",
      "weighted avg       0.77      0.79      0.77    106483\n",
      "\n"
     ]
    }
   ],
   "source": [
    "from sklearn.ensemble import AdaBoostClassifier\n",
    "\n",
    "ada = AdaBoostClassifier(n_estimators = 300) # Estimator need to change\n",
    "ada.fit(X_train_new, y_train_new)\n",
    "\n",
    "y_pred_ada = ada.predict(X_test2)\n",
    "from sklearn.metrics import classification_report\n",
    "print(classification_report(y_test2,y_pred_ada))"
   ]
  },
  {
   "cell_type": "code",
   "execution_count": 76,
   "id": "386d5c88",
   "metadata": {},
   "outputs": [
    {
     "data": {
      "image/png": "[encoded data removed]",
      "text/plain": [
       "<Figure size 432x288 with 2 Axes>"
      ]
     },
     "metadata": {
      "needs_background": "light"
     },
     "output_type": "display_data"
    }
   ],
   "source": [
    "cm = confusion_matrix(y_test2,y_pred_ada)\n",
    "cm\n",
    "conf_mat = pd.DataFrame(data = cm, columns = ['Predicted: No', 'Predicted: Yes'],\n",
    "                       index = ['Actual: No', 'Actual: Yes'])\n",
    "\n",
    "sns.heatmap(conf_mat, annot = True, fmt = 'd')\n",
    "plt.show()"
   ]
  },
  {
   "cell_type": "code",
   "execution_count": 50,
   "id": "da3a8f87",
   "metadata": {},
   "outputs": [],
   "source": [
    "from sklearn.ensemble import RandomForestClassifier,GradientBoostingClassifier\n",
    "from sklearn.metrics import accuracy_score"
   ]
  },
  {
   "cell_type": "markdown",
   "id": "a60e2317",
   "metadata": {},
   "source": [
    "# Random Forest"
   ]
  },
  {
   "cell_type": "code",
   "execution_count": 51,
   "id": "a435f745",
   "metadata": {},
   "outputs": [
    {
     "name": "stdout",
     "output_type": "stream",
     "text": [
      "              precision    recall  f1-score   support\n",
      "\n",
      "           0       0.82      0.94      0.88     81326\n",
      "           1       0.65      0.34      0.45     25157\n",
      "\n",
      "    accuracy                           0.80    106483\n",
      "   macro avg       0.74      0.64      0.66    106483\n",
      "weighted avg       0.78      0.80      0.78    106483\n",
      "\n"
     ]
    }
   ],
   "source": [
    "rf = RandomForestClassifier()\n",
    "rf.fit(X_train_new,y_train_new)\n",
    "y_pred_rf = rf.predict(X_test2)\n",
    "accuracy_score(y_test2,y_pred_rf)\n",
    "print(classification_report(y_test2,y_pred_rf))"
   ]
  },
  {
   "cell_type": "markdown",
   "id": "dc5acd8f",
   "metadata": {},
   "source": [
    "## GridSearchCV"
   ]
  },
  {
   "cell_type": "code",
   "execution_count": 52,
   "id": "ad847981",
   "metadata": {},
   "outputs": [],
   "source": [
    "# Number of trees in random forest\n",
    "n_estimators = [20,60,100,120]\n",
    "\n",
    "# Number of features to consider at every split\n",
    "max_features = [0.2,0.6,1.0]\n",
    "\n",
    "# Maximum number of levels in tree\n",
    "max_depth = [2,10,None]\n",
    "\n",
    "# Number of samples\n",
    "max_samples = [0.5,0.75,1.0]\n"
   ]
  },
  {
   "cell_type": "code",
   "execution_count": 53,
   "id": "2e2f35b5",
   "metadata": {},
   "outputs": [
    {
     "name": "stdout",
     "output_type": "stream",
     "text": [
      "{'n_estimators': [20, 60, 100, 120], 'max_features': [0.2, 0.6, 1.0], 'max_depth': [2, 10, None], 'max_samples': [0.5, 0.75, 1.0]}\n"
     ]
    }
   ],
   "source": [
    "param_grid = {'n_estimators': n_estimators,\n",
    "               'max_features': max_features,\n",
    "               'max_depth': max_depth,\n",
    "              'max_samples':max_samples\n",
    "             }\n",
    "print(param_grid)"
   ]
  },
  {
   "cell_type": "code",
   "execution_count": 54,
   "id": "b1589745",
   "metadata": {},
   "outputs": [],
   "source": [
    "rf = RandomForestClassifier()"
   ]
  },
  {
   "cell_type": "code",
   "execution_count": 55,
   "id": "39c85704",
   "metadata": {},
   "outputs": [],
   "source": [
    "from sklearn.model_selection import GridSearchCV\n",
    "\n",
    "rf_grid = GridSearchCV(estimator = rf, \n",
    "                       param_grid = param_grid, \n",
    "                       cv = 5, \n",
    "                       verbose=2, \n",
    "                       n_jobs = -1)"
   ]
  },
  {
   "cell_type": "code",
   "execution_count": null,
   "id": "e5fdb269",
   "metadata": {},
   "outputs": [],
   "source": [
    "rf_grid.fit(X_train_new,y_train_new)"
   ]
  },
  {
   "cell_type": "code",
   "execution_count": null,
   "id": "e1fd89f7",
   "metadata": {},
   "outputs": [],
   "source": [
    "rf_grid.best_params_"
   ]
  },
  {
   "cell_type": "code",
   "execution_count": null,
   "id": "c68aacb7",
   "metadata": {},
   "outputs": [],
   "source": [
    "rf_grid.best_score_"
   ]
  },
  {
   "cell_type": "code",
   "execution_count": null,
   "id": "e12b6d60",
   "metadata": {},
   "outputs": [],
   "source": [
    "# Best on Grid serach CV Parameter"
   ]
  },
  {
   "cell_type": "code",
   "execution_count": 67,
   "id": "19cf6507",
   "metadata": {},
   "outputs": [
    {
     "name": "stdout",
     "output_type": "stream",
     "text": [
      "              precision    recall  f1-score   support\n",
      "\n",
      "           0       0.82      0.94      0.88     81326\n",
      "           1       0.64      0.35      0.45     25157\n",
      "\n",
      "    accuracy                           0.80    106483\n",
      "   macro avg       0.73      0.64      0.66    106483\n",
      "weighted avg       0.78      0.80      0.78    106483\n",
      "\n"
     ]
    }
   ],
   "source": [
    "rf = RandomForestClassifier(max_samples=0.75, min_samples_split= 2,\n",
    " min_samples_leaf= 2,\n",
    " max_features= 0.4, random_state=40)\n",
    "rf.fit(X_train_new,y_train_new)\n",
    "y_pred_rf = rf.predict(X_test2)\n",
    "accuracy_score(y_test2,y_pred_rf)\n",
    "print(classification_report(y_test2,y_pred_rf))"
   ]
  },
  {
   "cell_type": "markdown",
   "id": "923d03cd",
   "metadata": {},
   "source": [
    "# Gradient Boosting"
   ]
  },
  {
   "cell_type": "code",
   "execution_count": null,
   "id": "d8984b58",
   "metadata": {},
   "outputs": [],
   "source": [
    "params = {'n_estimators': [100, 120, 150, 200, 250, 300, 350],\n",
    "   'learning_rate': [0.1, 0.01, 0.001, 0.15, 0.015],'max_depth': [2, 3, 4, 5, 6]}\n",
    "grid = GridSearchCV(GradientBoostingClassifier(),params)\n",
    "grid.fit(X_train_new, y_train_new)\n",
    "print(grid.best_params_)\n",
    "\n",
    "best_gb = grid.best_estimator_\n",
    "best_gb"
   ]
  },
  {
   "cell_type": "code",
   "execution_count": 79,
   "id": "c8fa40c1",
   "metadata": {},
   "outputs": [
    {
     "name": "stdout",
     "output_type": "stream",
     "text": [
      "              precision    recall  f1-score   support\n",
      "\n",
      "           0       0.84      0.85      0.85     81326\n",
      "           1       0.50      0.47      0.48     25157\n",
      "\n",
      "    accuracy                           0.76    106483\n",
      "   macro avg       0.67      0.66      0.66    106483\n",
      "weighted avg       0.76      0.76      0.76    106483\n",
      "\n"
     ]
    }
   ],
   "source": [
    "gb = GradientBoostingClassifier(learning_rate=0.05)\n",
    "gb.fit(X_train_new,y_train_new)\n",
    "y_pred_gb = gb.predict(X_test2)\n",
    "accuracy_score(y_test2,y_pred_gb)\n",
    "print(classification_report(y_test2,y_pred_gb))"
   ]
  },
  {
   "cell_type": "markdown",
   "id": "4978fabd",
   "metadata": {},
   "source": [
    "## Grid Search CV for XGBoost"
   ]
  },
  {
   "cell_type": "code",
   "execution_count": null,
   "id": "b81a1475",
   "metadata": {},
   "outputs": [],
   "source": [
    "params = {'n_estimators': [100, 120, 150],\n",
    "    'learning_rate': [0.1, 0.01, 0.001, 0.15, 0.015], \n",
    "    'gamma': [2, 3, 4, 5, 6],\n",
    "    'max_depth': [2, 3, 4, 5, 6]}\n",
    "\n",
    "grid = GridSearchCV(XGBClassifier(), params)\n",
    "grid.fit(X_train_new, y_train_new)\n",
    "print(grid.best_params_)\n",
    "\n",
    "best_xgb = grid.best_estimator_\n",
    "best_xgb"
   ]
  },
  {
   "cell_type": "code",
   "execution_count": 78,
   "id": "ca7be477",
   "metadata": {},
   "outputs": [
    {
     "name": "stdout",
     "output_type": "stream",
     "text": [
      "0.6518889766628996\n",
      "              precision    recall  f1-score   support\n",
      "\n",
      "           0       0.83      0.92      0.87     81326\n",
      "           1       0.60      0.38      0.47     25157\n",
      "\n",
      "    accuracy                           0.79    106483\n",
      "   macro avg       0.71      0.65      0.67    106483\n",
      "weighted avg       0.77      0.79      0.78    106483\n",
      "\n"
     ]
    }
   ],
   "source": [
    "from xgboost import XGBClassifier\n",
    "from sklearn.metrics import roc_auc_score , roc_curve\n",
    "\n",
    "xgb = XGBClassifier(learning_rate = 0.05, gamma = 4)\n",
    "xgb.fit(X_train_new, y_train_new)\n",
    "y_pred_xgb = xgb.predict(X_test2)\n",
    "\n",
    "print(roc_auc_score(y_test2, y_pred_xgb))\n",
    "print(classification_report(y_test2, y_pred_xgb))"
   ]
  }
 ],
 "metadata": {
  "kernelspec": {
   "display_name": "Python 3 (ipykernel)",
   "language": "python",
   "name": "python3"
  },
  "language_info": {
   "codemirror_mode": {
    "name": "ipython",
    "version": 3
   },
   "file_extension": ".py",
   "mimetype": "text/x-python",
   "name": "python",
   "nbconvert_exporter": "python",
   "pygments_lexer": "ipython3",
   "version": "3.9.7"
  }
 },
 "nbformat": 4,
 "nbformat_minor": 5
}
